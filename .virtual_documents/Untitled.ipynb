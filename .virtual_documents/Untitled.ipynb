import numpy as np


X = np.random.rand(9,2)
y = np.random.randint(0,1,size=9)


class Perceptron:
    def __init__(self,input_size,mu=0.001,epochs=100):
        self.W = np.zeros(input_size+1)
        self.mu = mu
        self.epochs = epochs

    def ativation(self):
        return 1 if x >= 0 else 0
        
    
    def train(self,X,y):
        erorrs = []
        for epoch in range(self.epochs):
            
            
        


np.c_()


model = Perceptron()
