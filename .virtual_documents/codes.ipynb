import numpy as np
import pandas as pd
import matplotlib.pyplot as plt
import seaborn as sb
from sklearn.feature_selection import mutual_info_classif
from sklearn.model_selection import train_test_split 








# loading the data
df = pd.read_csv('data.csv')
df.head()


#looking for null data
df.isna().sum()


df.drop(axis=1,columns='Unnamed: 32',inplace=True)
df.isna().sum()


# our target is diagnosis, so we divede our data in X,y X: input space , y is the target
X , y = df.iloc[:,2:],df.iloc[:,1]


# getting the index of the two major mutual information between two features and the target
indices_maximos = np.argsort(mutual_info_classif(X,y))[-2:][::-1]
data = X.iloc[:,indices_maximos]
data.loc[:,'target'] = y
sb.scatterplot(data=data,x='perimeter_worst',y='area_worst',hue='target')


data.target.value_counts()





# filter and picking 50 samples for each label of the target 

data_filtrado_1 = data[data["perimeter_worst"] < 110].sample(n=50, random_state=2)  
data_filtrado_2 = data[data["area_worst"] > 1200].sample(n=50, random_state=2)  

# join the two filters
data_sample = pd.concat([data_filtrado_1, data_filtrado_2]).reset_index(drop=True)

sb.scatterplot(data=data_sample,x='perimeter_worst',y='area_worst',hue='target')


data_sample.target.value_counts()


X , y = data_sample.iloc[:,:-1], data_sample.iloc[:,-1]


X_train, X_test, y_train, y_test = train_test_split(X, y, test_size=0.2, random_state=12,stratify=y)


train_counts = y_train.value_counts()
test_counts = y_test.value_counts()

y_max = max(train_counts.max(), test_counts.max())
fig, axes = plt.subplots(1, 2, figsize=(6, 3))

# Plotting the value counts of y_train
sb.barplot(x=train_counts.index, y=train_counts.values, ax=axes[0])
axes[0].set_title("Training")
axes[0].set_xlabel("Clases")
axes[0].set_ylabel("Frecuencia")
axes[0].set_ylim(0, y_max)  

# Plotting the value counts of y_test
sb.barplot(x=test_counts.index, y=test_counts.values, ax=axes[1])
axes[1].set_title("Test")
axes[1].set_xlabel("Clases")
axes[1].set_ylabel("Frecuencia")
axes[1].set_ylim(0, y_max)  

plt.tight_layout()
plt.show()






