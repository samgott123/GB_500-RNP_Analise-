from keras.layers import  Dense
from keras.models import Sequential
from keras.optimizers import Adam
from tensorflow import keras
import numpy as np
import pandas as pd
import matplotlib.pyplot as plt
import seaborn as sb
from sklearn.feature_selection import mutual_info_classif
from sklearn.model_selection import train_test_split


from keras.preprocessing import image_dataset_from_directory
import tensorflow as tf


ruta_dataset = "/prj/posgrad/samuelrt/Documentos/Doutorado/images"

# Cargar el dataset
dataset = tf.keras.preprocessing.image_dataset_from_directory(
    ruta_dataset,
    labels='inferred',
    label_mode='int',
    batch_size=32,
    image_size=(128, 128),
    shuffle=True
)

# Obtener nombres de las clases
class_names = dataset.class_names
print("Clases:", class_names)

def rgb_to_grayscale(image, label):
    image = tf.image.rgb_to_grayscale(image)  # convierte (128, 128, 3) → (128, 128, 1)
    return image, label

# Aplicar la transformación al dataset
gray_dataset = dataset.map(rgb_to_grayscale)

# Diccionario para guardar una imagen por clase
sample_images = {}

# Recorremos el dataset
for images, labels in gray_dataset:
    for img, label in zip(images, labels):
        class_idx = label.numpy()
        if class_idx not in sample_images:
            sample_images[class_idx] = img
        if len(sample_images) == len(class_names):
            break
    if len(sample_images) == len(class_names):
        break

# Mostrar una imagen por clase
plt.figure(figsize=(12, 6))
for i, class_idx in enumerate(sorted(sample_images.keys())):
    plt.subplot(1, len(class_names), i + 1)
    plt.imshow(sample_images[class_idx].numpy().astype("uint8"),cmap='gray')
    plt.title(class_names[class_idx])
    plt.axis("off")
plt.tight_layout()
plt.show()


type(next(dataset.ragged_batch(batch_size=2).as_numpy_iterator()))


gray_dataset = [*gray_dataset]
# imgs, lbls = gray_dataset.
len(gray_dataset)


gray_dataset[0]















