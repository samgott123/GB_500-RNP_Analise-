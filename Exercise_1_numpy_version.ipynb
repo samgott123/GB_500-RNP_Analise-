{
 "cells": [
  {
   "cell_type": "code",
   "execution_count": 1,
   "id": "7c879e70-8fc6-407b-b8e1-07471f2014f4",
   "metadata": {},
   "outputs": [],
   "source": [
    "import numpy as np"
   ]
  },
  {
   "cell_type": "code",
   "execution_count": 6,
   "id": "dfc78b0b-4f32-41e3-8352-3f5e7e9e251b",
   "metadata": {},
   "outputs": [],
   "source": [
    "X = np.random.rand(9,2)\n",
    "y = np.random.randint(0,1,size=9)"
   ]
  },
  {
   "cell_type": "code",
   "execution_count": null,
   "id": "42a438db-0087-4e0e-969e-615cb6a86e22",
   "metadata": {},
   "outputs": [],
   "source": [
    "class Perceptron:\n",
    "    def __init__(self,input_size,mu=0.001,epochs=100):\n",
    "        self.W = np.zeros(input_size+1)\n",
    "        self.mu = mu\n",
    "        self.epochs = epochs\n",
    "\n",
    "    def ativation(self):\n",
    "        return 1 if x >= 0 else 0\n",
    "        \n",
    "    \n",
    "    def train(self,X,y):\n",
    "        epoch_errors = []\n",
    "        for epoch in range(self.epochs):\n",
    "            errors = 0\n",
    "            X_biased = np.c_[np.ones(X.shape[0]),X]\n",
    "            for xi, target in zip(X_biased,y):\n",
    "                net_input = np.dot(xi,self.W)\n",
    "                y_chapeu = self.ativation(net_input)\n",
    "                error = target - y_chapeu\n",
    "                if error != 0:\n",
    "                    self.W += self.mu * error * xi\n",
    "                    erorrs +=1\n",
    "            \n",
    "            epoch_errors.append(errors)\n",
    "            if errors == 0:\n",
    "                print(f'converged {epoch+1} epochs')\n",
    "                break\n",
    "        return epoch_errors\n",
    "    \n",
    "    def prediction(self,X):\n",
    "        X_biased = np.c_[np.ones(X.shape[0],X)]\n",
    "        net_input = np.dot(X_biased,self.W)\n",
    "        predictions = np.array([self.ativation(net) for net in net_input])     \n",
    "        return predictions   "
   ]
  },
  {
   "cell_type": "code",
   "execution_count": null,
   "id": "1ee0114f",
   "metadata": {},
   "outputs": [],
   "source": []
  }
 ],
 "metadata": {
  "kernelspec": {
   "display_name": "base",
   "language": "python",
   "name": "python3"
  },
  "language_info": {
   "codemirror_mode": {
    "name": "ipython",
    "version": 3
   },
   "file_extension": ".py",
   "mimetype": "text/x-python",
   "name": "python",
   "nbconvert_exporter": "python",
   "pygments_lexer": "ipython3",
   "version": "3.11.5"
  }
 },
 "nbformat": 4,
 "nbformat_minor": 5
}
