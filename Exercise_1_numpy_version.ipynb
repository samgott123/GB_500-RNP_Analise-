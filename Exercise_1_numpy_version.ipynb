{
 "cells": [
  {
   "cell_type": "code",
   "execution_count": 1,
   "id": "7c879e70-8fc6-407b-b8e1-07471f2014f4",
   "metadata": {},
   "outputs": [],
   "source": [
    "import numpy as np"
   ]
  },
  {
   "cell_type": "code",
   "execution_count": 6,
   "id": "dfc78b0b-4f32-41e3-8352-3f5e7e9e251b",
   "metadata": {},
   "outputs": [],
   "source": [
    "X = np.random.rand(9,2)\n",
    "y = np.random.randint(0,1,size=9)"
   ]
  },
  {
   "cell_type": "code",
   "execution_count": 10,
   "id": "42a438db-0087-4e0e-969e-615cb6a86e22",
   "metadata": {},
   "outputs": [],
   "source": [
    "class Perceptron:\n",
    "    def __init__(self,input_size,mu=0.001,epochs=100):\n",
    "        self.W = np.zeros(input_size+1)\n",
    "        self.mu = mu\n",
    "        self.epochs = epochs\n",
    "\n",
    "    def ativation(self):\n",
    "        return 1 if x >= 0 else 0\n",
    "        \n",
    "    \n",
    "    def train(self,X,y):\n",
    "        erorrs = []\n",
    "        for epoch in range(self.epochs):\n",
    "            error = 0\n",
    "            X_biased = np.c_[np.ones(X.shape[0]),X]\n",
    "            \n",
    "            \n",
    "        "
   ]
  },
  {
   "cell_type": "code",
   "execution_count": null,
   "id": "9a04a370-5f8c-4e37-96ca-76d0549e2c2e",
   "metadata": {},
   "outputs": [],
   "source": [
    "np.c_()"
   ]
  },
  {
   "cell_type": "code",
   "execution_count": 11,
   "id": "6873b1df-e770-42e1-9b61-37ce91c469c7",
   "metadata": {},
   "outputs": [],
   "source": [
    "model = Perceptron()"
   ]
  }
 ],
 "metadata": {
  "kernelspec": {
   "display_name": "Python 3 (ipykernel)",
   "language": "python",
   "name": "python3"
  },
  "language_info": {
   "codemirror_mode": {
    "name": "ipython",
    "version": 3
   },
   "file_extension": ".py",
   "mimetype": "text/x-python",
   "name": "python",
   "nbconvert_exporter": "python",
   "pygments_lexer": "ipython3",
   "version": "3.11.10"
  }
 },
 "nbformat": 4,
 "nbformat_minor": 5
}
