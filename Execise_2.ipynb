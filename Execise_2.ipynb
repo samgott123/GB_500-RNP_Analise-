{
 "cells": [
  {
   "cell_type": "code",
   "execution_count": 32,
   "id": "6e746976-ac2e-458e-9d26-7addc3239e19",
   "metadata": {},
   "outputs": [],
   "source": [
    "import tensorflow as tf\n",
    "from tensorflow import keras\n",
    "from keras.layers import  Dense\n",
    "from keras.models import Sequential\n",
    "from keras.optimizers import Adam\n",
    "import os\n",
    "import numpy as np\n",
    "import pandas as pd\n",
    "import matplotlib.pyplot as plt\n",
    "import seaborn as sb\n",
    "from sklearn.model_selection import train_test_split,KFold"
   ]
  },
  {
   "cell_type": "code",
   "execution_count": null,
   "id": "28cde590-1bba-4672-9606-477bc3520f6d",
   "metadata": {
    "scrolled": true
   },
   "outputs": [],
   "source": [
    "import os\n",
    "import numpy as np\n",
    "import cv2\n",
    "from sklearn.preprocessing import StandardScaler\n",
    "\n",
    "# Definir rutas\n",
    "base_path = '/prj/posgrad/samuelrt/Documentos/Doutorado/images'\n",
    "hombres_path = os.path.join(base_path, 'homen')\n",
    "mujeres_path = os.path.join(base_path, 'mulher')\n",
    "\n",
    "# Tamaño deseado para las imágenes\n",
    "img_height, img_width = 128, 128  # Un tamaño más pequeño para reducir dimensionalidad\n",
    "\n",
    "# Listas para almacenar imágenes y etiquetas\n",
    "imagenes = []\n",
    "etiquetas = []\n",
    "\n",
    "# Cargar imágenes de hombres (etiqueta 0) en escala de grises\n",
    "for imagen_nombre in os.listdir(hombres_path):\n",
    "    if imagen_nombre.endswith(('.jpg', '.jpeg', '.png')):\n",
    "        img_path = os.path.join(hombres_path, imagen_nombre)\n",
    "        # Cargar imagen como escala de grises directamente\n",
    "        img = cv2.imread(img_path, cv2.IMREAD_GRAYSCALE)\n",
    "        # Redimensionar\n",
    "        img = cv2.resize(img, (img_width, img_height))\n",
    "        # Aplanar la imagen (convertir matriz 2D a vector 1D)\n",
    "        img_flat = img.flatten()\n",
    "        imagenes.append(img_flat)\n",
    "        etiquetas.append(0)  # 0 para hombres\n",
    "\n",
    "# Cargar imágenes de mujeres (etiqueta 1) en escala de grises\n",
    "for imagen_nombre in os.listdir(mujeres_path):\n",
    "    if imagen_nombre.endswith(('.jpg', '.jpeg', '.png')):\n",
    "        img_path = os.path.join(mujeres_path, imagen_nombre)\n",
    "        img = cv2.imread(img_path, cv2.IMREAD_GRAYSCALE)\n",
    "        img = cv2.resize(img, (img_width, img_height))\n",
    "        img_flat = img.flatten()\n",
    "        imagenes.append(img_flat)\n",
    "        etiquetas.append(1)  # 1 para mujeres\n",
    "\n",
    "# Convertir listas a arrays de NumPy\n",
    "X = np.array(imagenes)\n",
    "y = np.array(etiquetas)"
   ]
  },
  {
   "cell_type": "code",
   "execution_count": 7,
   "id": "a45e6031",
   "metadata": {},
   "outputs": [
    {
     "data": {
      "image/png": "[encoded data removed]",
      "text/plain": [
       "<Figure size 500x500 with 1 Axes>"
      ]
     },
     "metadata": {},
     "output_type": "display_data"
    }
   ],
   "source": [
    "def visualizar_imagen(imagen_flat, altura=64, anchura=64):\n",
    "    # Reformar el vector aplanado a matriz 2D\n",
    "    imagen_2d = imagen_flat.reshape(altura, anchura)\n",
    "    plt.figure(figsize=(5, 5))\n",
    "    plt.imshow(imagen_2d, cmap='gray')\n",
    "    plt.axis('off')\n",
    "    plt.show()\n",
    "\n",
    "# Para visualizar una imagen del conjunto de entrenamiento\n",
    "indice = 0  # Cambia el índice para ver diferentes imágenes\n",
    "visualizar_imagen(X[indice], img_height, img_width)"
   ]
  },
  {
   "cell_type": "code",
   "execution_count": 20,
   "id": "ffcbc8d6",
   "metadata": {},
   "outputs": [
    {
     "data": {
      "text/plain": [
       "(400, 16384)"
      ]
     },
     "execution_count": 20,
     "metadata": {},
     "output_type": "execute_result"
    }
   ],
   "source": [
    "X.shape"
   ]
  },
  {
   "cell_type": "code",
   "execution_count": 24,
   "id": "186e6fc2",
   "metadata": {},
   "outputs": [
    {
     "data": {
      "text/html": [
       "<div>\n",
       "<style scoped>\n",
       "    .dataframe tbody tr th:only-of-type {\n",
       "        vertical-align: middle;\n",
       "    }\n",
       "\n",
       "    .dataframe tbody tr th {\n",
       "        vertical-align: top;\n",
       "    }\n",
       "\n",
       "    .dataframe thead th {\n",
       "        text-align: right;\n",
       "    }\n",
       "</style>\n",
       "<table border=\"1\" class=\"dataframe\">\n",
       "  <thead>\n",
       "    <tr style=\"text-align: right;\">\n",
       "      <th></th>\n",
       "      <th>P0</th>\n",
       "      <th>P1</th>\n",
       "      <th>P2</th>\n",
       "      <th>P3</th>\n",
       "      <th>P4</th>\n",
       "      <th>P5</th>\n",
       "      <th>P6</th>\n",
       "      <th>P7</th>\n",
       "      <th>P8</th>\n",
       "      <th>P9</th>\n",
       "      <th>...</th>\n",
       "      <th>P16375</th>\n",
       "      <th>P16376</th>\n",
       "      <th>P16377</th>\n",
       "      <th>P16378</th>\n",
       "      <th>P16379</th>\n",
       "      <th>P16380</th>\n",
       "      <th>P16381</th>\n",
       "      <th>P16382</th>\n",
       "      <th>P16383</th>\n",
       "      <th>target</th>\n",
       "    </tr>\n",
       "  </thead>\n",
       "  <tbody>\n",
       "    <tr>\n",
       "      <th>0</th>\n",
       "      <td>255</td>\n",
       "      <td>255</td>\n",
       "      <td>255</td>\n",
       "      <td>255</td>\n",
       "      <td>255</td>\n",
       "      <td>255</td>\n",
       "      <td>255</td>\n",
       "      <td>255</td>\n",
       "      <td>255</td>\n",
       "      <td>255</td>\n",
       "      <td>...</td>\n",
       "      <td>130</td>\n",
       "      <td>130</td>\n",
       "      <td>130</td>\n",
       "      <td>131</td>\n",
       "      <td>133</td>\n",
       "      <td>139</td>\n",
       "      <td>139</td>\n",
       "      <td>139</td>\n",
       "      <td>143</td>\n",
       "      <td>0</td>\n",
       "    </tr>\n",
       "    <tr>\n",
       "      <th>1</th>\n",
       "      <td>165</td>\n",
       "      <td>167</td>\n",
       "      <td>167</td>\n",
       "      <td>166</td>\n",
       "      <td>167</td>\n",
       "      <td>167</td>\n",
       "      <td>167</td>\n",
       "      <td>172</td>\n",
       "      <td>166</td>\n",
       "      <td>166</td>\n",
       "      <td>...</td>\n",
       "      <td>147</td>\n",
       "      <td>147</td>\n",
       "      <td>147</td>\n",
       "      <td>145</td>\n",
       "      <td>145</td>\n",
       "      <td>137</td>\n",
       "      <td>127</td>\n",
       "      <td>121</td>\n",
       "      <td>119</td>\n",
       "      <td>0</td>\n",
       "    </tr>\n",
       "    <tr>\n",
       "      <th>2</th>\n",
       "      <td>187</td>\n",
       "      <td>188</td>\n",
       "      <td>185</td>\n",
       "      <td>185</td>\n",
       "      <td>185</td>\n",
       "      <td>187</td>\n",
       "      <td>188</td>\n",
       "      <td>184</td>\n",
       "      <td>185</td>\n",
       "      <td>183</td>\n",
       "      <td>...</td>\n",
       "      <td>44</td>\n",
       "      <td>54</td>\n",
       "      <td>52</td>\n",
       "      <td>42</td>\n",
       "      <td>42</td>\n",
       "      <td>44</td>\n",
       "      <td>58</td>\n",
       "      <td>59</td>\n",
       "      <td>67</td>\n",
       "      <td>0</td>\n",
       "    </tr>\n",
       "    <tr>\n",
       "      <th>3</th>\n",
       "      <td>255</td>\n",
       "      <td>255</td>\n",
       "      <td>255</td>\n",
       "      <td>255</td>\n",
       "      <td>255</td>\n",
       "      <td>255</td>\n",
       "      <td>255</td>\n",
       "      <td>255</td>\n",
       "      <td>255</td>\n",
       "      <td>255</td>\n",
       "      <td>...</td>\n",
       "      <td>13</td>\n",
       "      <td>13</td>\n",
       "      <td>17</td>\n",
       "      <td>20</td>\n",
       "      <td>21</td>\n",
       "      <td>20</td>\n",
       "      <td>21</td>\n",
       "      <td>26</td>\n",
       "      <td>29</td>\n",
       "      <td>0</td>\n",
       "    </tr>\n",
       "    <tr>\n",
       "      <th>4</th>\n",
       "      <td>195</td>\n",
       "      <td>191</td>\n",
       "      <td>191</td>\n",
       "      <td>192</td>\n",
       "      <td>194</td>\n",
       "      <td>191</td>\n",
       "      <td>191</td>\n",
       "      <td>193</td>\n",
       "      <td>193</td>\n",
       "      <td>192</td>\n",
       "      <td>...</td>\n",
       "      <td>10</td>\n",
       "      <td>6</td>\n",
       "      <td>12</td>\n",
       "      <td>30</td>\n",
       "      <td>30</td>\n",
       "      <td>30</td>\n",
       "      <td>32</td>\n",
       "      <td>37</td>\n",
       "      <td>42</td>\n",
       "      <td>0</td>\n",
       "    </tr>\n",
       "  </tbody>\n",
       "</table>\n",
       "<p>5 rows × 16385 columns</p>\n",
       "</div>"
      ],
      "text/plain": [
       "    P0   P1   P2   P3   P4   P5   P6   P7   P8   P9  ...  P16375  P16376  \\\n",
       "0  255  255  255  255  255  255  255  255  255  255  ...     130     130   \n",
       "1  165  167  167  166  167  167  167  172  166  166  ...     147     147   \n",
       "2  187  188  185  185  185  187  188  184  185  183  ...      44      54   \n",
       "3  255  255  255  255  255  255  255  255  255  255  ...      13      13   \n",
       "4  195  191  191  192  194  191  191  193  193  192  ...      10       6   \n",
       "\n",
       "   P16377  P16378  P16379  P16380  P16381  P16382  P16383  target  \n",
       "0     130     131     133     139     139     139     143       0  \n",
       "1     147     145     145     137     127     121     119       0  \n",
       "2      52      42      42      44      58      59      67       0  \n",
       "3      17      20      21      20      21      26      29       0  \n",
       "4      12      30      30      30      32      37      42       0  \n",
       "\n",
       "[5 rows x 16385 columns]"
      ]
     },
     "execution_count": 24,
     "metadata": {},
     "output_type": "execute_result"
    }
   ],
   "source": [
    "df = pd.DataFrame(data=X,columns=[f'P{i}' for i in range(X.shape[1])])\n",
    "df.loc[:,'target'] = y\n",
    "df\n",
    "df.head()"
   ]
  },
  {
   "cell_type": "code",
   "execution_count": 25,
   "id": "abe3d018",
   "metadata": {},
   "outputs": [
    {
     "data": {
      "text/plain": [
       "target\n",
       "0    200\n",
       "1    200\n",
       "Name: count, dtype: int64"
      ]
     },
     "execution_count": 25,
     "metadata": {},
     "output_type": "execute_result"
    }
   ],
   "source": [
    "df.value_counts(subset='target')"
   ]
  },
  {
   "cell_type": "code",
   "execution_count": 26,
   "id": "8b17dede",
   "metadata": {},
   "outputs": [],
   "source": [
    "# Para obtener el mismo resultado aleatorio cada vez\n",
    "df = df.sample(frac=1, random_state=42).reset_index(drop=True)"
   ]
  },
  {
   "cell_type": "code",
   "execution_count": 28,
   "id": "db394c51",
   "metadata": {},
   "outputs": [
    {
     "data": {
      "text/html": [
       "<div>\n",
       "<style scoped>\n",
       "    .dataframe tbody tr th:only-of-type {\n",
       "        vertical-align: middle;\n",
       "    }\n",
       "\n",
       "    .dataframe tbody tr th {\n",
       "        vertical-align: top;\n",
       "    }\n",
       "\n",
       "    .dataframe thead th {\n",
       "        text-align: right;\n",
       "    }\n",
       "</style>\n",
       "<table border=\"1\" class=\"dataframe\">\n",
       "  <thead>\n",
       "    <tr style=\"text-align: right;\">\n",
       "      <th></th>\n",
       "      <th>P0</th>\n",
       "      <th>P1</th>\n",
       "      <th>P2</th>\n",
       "      <th>P3</th>\n",
       "      <th>P4</th>\n",
       "      <th>P5</th>\n",
       "      <th>P6</th>\n",
       "      <th>P7</th>\n",
       "      <th>P8</th>\n",
       "      <th>P9</th>\n",
       "      <th>...</th>\n",
       "      <th>P16375</th>\n",
       "      <th>P16376</th>\n",
       "      <th>P16377</th>\n",
       "      <th>P16378</th>\n",
       "      <th>P16379</th>\n",
       "      <th>P16380</th>\n",
       "      <th>P16381</th>\n",
       "      <th>P16382</th>\n",
       "      <th>P16383</th>\n",
       "      <th>target</th>\n",
       "    </tr>\n",
       "  </thead>\n",
       "  <tbody>\n",
       "    <tr>\n",
       "      <th>0</th>\n",
       "      <td>175</td>\n",
       "      <td>175</td>\n",
       "      <td>179</td>\n",
       "      <td>177</td>\n",
       "      <td>176</td>\n",
       "      <td>177</td>\n",
       "      <td>177</td>\n",
       "      <td>176</td>\n",
       "      <td>175</td>\n",
       "      <td>176</td>\n",
       "      <td>...</td>\n",
       "      <td>80</td>\n",
       "      <td>81</td>\n",
       "      <td>79</td>\n",
       "      <td>78</td>\n",
       "      <td>78</td>\n",
       "      <td>78</td>\n",
       "      <td>77</td>\n",
       "      <td>74</td>\n",
       "      <td>69</td>\n",
       "      <td>1</td>\n",
       "    </tr>\n",
       "    <tr>\n",
       "      <th>1</th>\n",
       "      <td>199</td>\n",
       "      <td>200</td>\n",
       "      <td>199</td>\n",
       "      <td>199</td>\n",
       "      <td>201</td>\n",
       "      <td>202</td>\n",
       "      <td>201</td>\n",
       "      <td>200</td>\n",
       "      <td>202</td>\n",
       "      <td>194</td>\n",
       "      <td>...</td>\n",
       "      <td>34</td>\n",
       "      <td>34</td>\n",
       "      <td>33</td>\n",
       "      <td>40</td>\n",
       "      <td>47</td>\n",
       "      <td>42</td>\n",
       "      <td>47</td>\n",
       "      <td>51</td>\n",
       "      <td>46</td>\n",
       "      <td>1</td>\n",
       "    </tr>\n",
       "    <tr>\n",
       "      <th>2</th>\n",
       "      <td>183</td>\n",
       "      <td>184</td>\n",
       "      <td>183</td>\n",
       "      <td>184</td>\n",
       "      <td>184</td>\n",
       "      <td>183</td>\n",
       "      <td>184</td>\n",
       "      <td>183</td>\n",
       "      <td>182</td>\n",
       "      <td>184</td>\n",
       "      <td>...</td>\n",
       "      <td>41</td>\n",
       "      <td>58</td>\n",
       "      <td>67</td>\n",
       "      <td>76</td>\n",
       "      <td>79</td>\n",
       "      <td>69</td>\n",
       "      <td>66</td>\n",
       "      <td>76</td>\n",
       "      <td>83</td>\n",
       "      <td>0</td>\n",
       "    </tr>\n",
       "    <tr>\n",
       "      <th>3</th>\n",
       "      <td>187</td>\n",
       "      <td>186</td>\n",
       "      <td>187</td>\n",
       "      <td>187</td>\n",
       "      <td>188</td>\n",
       "      <td>189</td>\n",
       "      <td>185</td>\n",
       "      <td>185</td>\n",
       "      <td>187</td>\n",
       "      <td>186</td>\n",
       "      <td>...</td>\n",
       "      <td>112</td>\n",
       "      <td>114</td>\n",
       "      <td>114</td>\n",
       "      <td>113</td>\n",
       "      <td>115</td>\n",
       "      <td>116</td>\n",
       "      <td>117</td>\n",
       "      <td>116</td>\n",
       "      <td>117</td>\n",
       "      <td>1</td>\n",
       "    </tr>\n",
       "    <tr>\n",
       "      <th>4</th>\n",
       "      <td>182</td>\n",
       "      <td>182</td>\n",
       "      <td>184</td>\n",
       "      <td>183</td>\n",
       "      <td>181</td>\n",
       "      <td>183</td>\n",
       "      <td>185</td>\n",
       "      <td>184</td>\n",
       "      <td>184</td>\n",
       "      <td>186</td>\n",
       "      <td>...</td>\n",
       "      <td>8</td>\n",
       "      <td>11</td>\n",
       "      <td>15</td>\n",
       "      <td>37</td>\n",
       "      <td>39</td>\n",
       "      <td>42</td>\n",
       "      <td>29</td>\n",
       "      <td>25</td>\n",
       "      <td>38</td>\n",
       "      <td>0</td>\n",
       "    </tr>\n",
       "  </tbody>\n",
       "</table>\n",
       "<p>5 rows × 16385 columns</p>\n",
       "</div>"
      ],
      "text/plain": [
       "    P0   P1   P2   P3   P4   P5   P6   P7   P8   P9  ...  P16375  P16376  \\\n",
       "0  175  175  179  177  176  177  177  176  175  176  ...      80      81   \n",
       "1  199  200  199  199  201  202  201  200  202  194  ...      34      34   \n",
       "2  183  184  183  184  184  183  184  183  182  184  ...      41      58   \n",
       "3  187  186  187  187  188  189  185  185  187  186  ...     112     114   \n",
       "4  182  182  184  183  181  183  185  184  184  186  ...       8      11   \n",
       "\n",
       "   P16377  P16378  P16379  P16380  P16381  P16382  P16383  target  \n",
       "0      79      78      78      78      77      74      69       1  \n",
       "1      33      40      47      42      47      51      46       1  \n",
       "2      67      76      79      69      66      76      83       0  \n",
       "3     114     113     115     116     117     116     117       1  \n",
       "4      15      37      39      42      29      25      38       0  \n",
       "\n",
       "[5 rows x 16385 columns]"
      ]
     },
     "execution_count": 28,
     "metadata": {},
     "output_type": "execute_result"
    }
   ],
   "source": [
    "df.head()"
   ]
  },
  {
   "cell_type": "code",
   "execution_count": 38,
   "id": "50de3b3b",
   "metadata": {},
   "outputs": [],
   "source": [
    "def scaler(x):\n",
    "    return (x - np.mean(x)) / np.std(x)"
   ]
  },
  {
   "cell_type": "code",
   "execution_count": 39,
   "id": "6110e998",
   "metadata": {},
   "outputs": [],
   "source": [
    "X = df.values[:,:-1]\n",
    "y = df.values[:,-1]"
   ]
  },
  {
   "cell_type": "code",
   "execution_count": 40,
   "id": "56aecdc3",
   "metadata": {},
   "outputs": [],
   "source": [
    "X = scaler(X)"
   ]
  },
  {
   "cell_type": "code",
   "execution_count": 59,
   "id": "582d9b0b",
   "metadata": {},
   "outputs": [
    {
     "data": {
      "text/plain": [
       "Text(0.5, 1.0, 'Counts')"
      ]
     },
     "execution_count": 59,
     "metadata": {},
     "output_type": "execute_result"
    },
    {
     "data": {
      "image/png": "[encoded data removed]",
      "text/plain": [
       "<Figure size 640x480 with 1 Axes>"
      ]
     },
     "metadata": {},
     "output_type": "display_data"
    }
   ],
   "source": [
    "# Separar test y entrenamiento\n",
    "X_trainval, X_test, y_trainval, y_test = train_test_split(X, y, test_size=0.2, random_state=42)\n",
    "clases ,count = np.unique(y_test,return_counts=True)\n",
    "plt.bar(x=clases,height=count,color=['g','b'])\n",
    "plt.xticks(clases)\n",
    "plt.title('Counts')"
   ]
  },
  {
   "cell_type": "code",
   "execution_count": null,
   "id": "77bfd8c4",
   "metadata": {},
   "outputs": [],
   "source": [
    "\n",
    "# Crear modelo con UNA neurona en la capa oculta\n",
    "model = Sequential([\n",
    "    Dense(1, activation='sigmoid', input_shape=(X.shape[1],)),  # solo una neurona\n",
    "    Dense(1)  # salida para regresión\n",
    "])\n",
    "model.compile(optimizer=Adam(), loss='mse')\n",
    "\n",
    "# K-Fold\n",
    "kf = KFold(n_splits=4, shuffle=True, random_state=42)\n",
    "\n",
    "# Entrenar progresivamente\n",
    "for fold, (train_idx, val_idx) in enumerate(kf.split(X_trainval)):\n",
    "    X_train_fold, X_val_fold = X_trainval[train_idx], X_trainval[val_idx]\n",
    "    y_train_fold, y_val_fold = y_trainval[train_idx], y_trainval[val_idx]\n",
    "    \n",
    "    print(f\"Fold {fold + 1}: entrenando sobre {len(train_idx)} muestras\")\n",
    "    model.fit(X_train_fold, y_train_fold, epochs=10, batch_size=32,\n",
    "              validation_data=(X_val_fold, y_val_fold), verbose=0)\n",
    "\n",
    "print(\"\\n✅ Modelo final entrenado en todos los folds con una sola neurona.\")\n"
   ]
  },
  {
   "cell_type": "code",
   "execution_count": 45,
   "id": "108ea4a7",
   "metadata": {},
   "outputs": [
    {
     "name": "stdout",
     "output_type": "stream",
     "text": [
      "WARNING:tensorflow:5 out of the last 7 calls to <function TensorFlowTrainer.make_predict_function.<locals>.one_step_on_data_distributed at 0x7cbeffe16e80> triggered tf.function retracing. Tracing is expensive and the excessive number of tracings could be due to (1) creating @tf.function repeatedly in a loop, (2) passing tensors with different shapes, (3) passing Python objects instead of tensors. For (1), please define your @tf.function outside of the loop. For (2), @tf.function has reduce_retracing=True option that can avoid unnecessary retracing. For (3), please refer to https://www.tensorflow.org/guide/function#controlling_retracing and https://www.tensorflow.org/api_docs/python/tf/function for  more details.\n",
      "\u001b[1m1/3\u001b[0m \u001b[32m━━━━━━\u001b[0m\u001b[37m━━━━━━━━━━━━━━\u001b[0m \u001b[1m0s\u001b[0m 66ms/stepWARNING:tensorflow:6 out of the last 9 calls to <function TensorFlowTrainer.make_predict_function.<locals>.one_step_on_data_distributed at 0x7cbeffe16e80> triggered tf.function retracing. Tracing is expensive and the excessive number of tracings could be due to (1) creating @tf.function repeatedly in a loop, (2) passing tensors with different shapes, (3) passing Python objects instead of tensors. For (1), please define your @tf.function outside of the loop. For (2), @tf.function has reduce_retracing=True option that can avoid unnecessary retracing. For (3), please refer to https://www.tensorflow.org/guide/function#controlling_retracing and https://www.tensorflow.org/api_docs/python/tf/function for  more details.\n",
      "\u001b[1m3/3\u001b[0m \u001b[32m━━━━━━━━━━━━━━━━━━━━\u001b[0m\u001b[37m\u001b[0m \u001b[1m0s\u001b[0m 10ms/step\n"
     ]
    }
   ],
   "source": [
    "y_pred = model.predict(X_test)"
   ]
  },
  {
   "cell_type": "code",
   "execution_count": 35,
   "id": "5fc79e74",
   "metadata": {},
   "outputs": [],
   "source": [
    "from sklearn.metrics import confusion_matrix,accuracy_score"
   ]
  },
  {
   "cell_type": "code",
   "execution_count": 47,
   "id": "42abd1a9",
   "metadata": {},
   "outputs": [],
   "source": [
    "y_pred = (y_pred >= 0.5).astype(int)"
   ]
  },
  {
   "cell_type": "code",
   "execution_count": 48,
   "id": "0639e0c9",
   "metadata": {},
   "outputs": [
    {
     "data": {
      "image/png": "[encoded data removed]",
      "text/plain": [
       "<Figure size 400x400 with 2 Axes>"
      ]
     },
     "metadata": {},
     "output_type": "display_data"
    }
   ],
   "source": [
    "cm = confusion_matrix(y_pred,y_test)\n",
    "fig, ax = plt.subplots(figsize=(4, 4))\n",
    "labels = ['C0', 'C1']\n",
    "\n",
    "# Con seaborn\n",
    "sb.heatmap(cm, annot=True, fmt='d', cmap='Blues', \n",
    "            xticklabels=labels, yticklabels=labels)\n",
    "\n",
    "# Con matplotlib básico\n",
    "ax.set_xticks(np.arange(len(labels)))\n",
    "ax.set_yticks(np.arange(len(labels)))\n",
    "ax.set_xticklabels(labels)\n",
    "ax.set_yticklabels(labels)\n",
    "plt.yticks(rotation=0)\n",
    "plt.ylabel('Real Value')\n",
    "plt.xlabel('Prediction')\n",
    "plt.title('Confusión Matrix')\n",
    "plt.tight_layout()\n",
    "plt.show()"
   ]
  },
  {
   "cell_type": "code",
   "execution_count": 49,
   "id": "8a5ec94c",
   "metadata": {},
   "outputs": [
    {
     "data": {
      "text/plain": [
       "0.65"
      ]
     },
     "execution_count": 49,
     "metadata": {},
     "output_type": "execute_result"
    }
   ],
   "source": [
    "accuracy_score(y_pred,y_test)"
   ]
  }
 ],
 "metadata": {
  "kernelspec": {
   "display_name": "base",
   "language": "python",
   "name": "python3"
  },
  "language_info": {
   "codemirror_mode": {
    "name": "ipython",
    "version": 3
   },
   "file_extension": ".py",
   "mimetype": "text/x-python",
   "name": "python",
   "nbconvert_exporter": "python",
   "pygments_lexer": "ipython3",
   "version": "3.11.8"
  }
 },
 "nbformat": 4,
 "nbformat_minor": 5
}
