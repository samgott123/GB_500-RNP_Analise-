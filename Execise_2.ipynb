{
 "cells": [
  {
   "cell_type": "code",
   "execution_count": 1,
   "id": "6e746976-ac2e-458e-9d26-7addc3239e19",
   "metadata": {},
   "outputs": [],
   "source": [
    "from keras.layers import  Dense\n",
    "from keras.models import Sequential\n",
    "from keras.optimizers import Adam\n",
    "from tensorflow import keras\n",
    "import numpy as np\n",
    "import pandas as pd\n",
    "import matplotlib.pyplot as plt\n",
    "import seaborn as sb\n",
    "from sklearn.feature_selection import mutual_info_classif\n",
    "from sklearn.model_selection import train_test_split"
   ]
  },
  {
   "cell_type": "code",
   "execution_count": 3,
   "id": "2f78f062-565b-432a-b77a-5ed9882b6be3",
   "metadata": {},
   "outputs": [],
   "source": [
    "from keras.preprocessing import image_dataset_from_directory"
   ]
  },
  {
   "cell_type": "code",
   "execution_count": 4,
   "id": "28cde590-1bba-4672-9606-477bc3520f6d",
   "metadata": {},
   "outputs": [
    {
     "ename": "NameError",
     "evalue": "name 'ruta_dataset' is not defined",
     "output_type": "error",
     "traceback": [
      "\u001b[0;31m---------------------------------------------------------------------------\u001b[0m",
      "\u001b[0;31mNameError\u001b[0m                                 Traceback (most recent call last)",
      "Cell \u001b[0;32mIn[4], line 6\u001b[0m\n\u001b[1;32m      2\u001b[0m ruta_dataset_mulher \u001b[38;5;241m=\u001b[39m \u001b[38;5;124m\"\u001b[39m\u001b[38;5;124m/prj/posgrad/samuelrt/Documentos/Doutorado/images/mulher\u001b[39m\u001b[38;5;124m\"\u001b[39m\n\u001b[1;32m      4\u001b[0m \u001b[38;5;66;03m# Cargar las imágenes en conjuntos de entrenamiento y validación\u001b[39;00m\n\u001b[1;32m      5\u001b[0m train_ds \u001b[38;5;241m=\u001b[39m image_dataset_from_directory(\n\u001b[0;32m----> 6\u001b[0m     ruta_dataset,\n\u001b[1;32m      7\u001b[0m     validation_split\u001b[38;5;241m=\u001b[39m\u001b[38;5;241m0.2\u001b[39m,  \u001b[38;5;66;03m# 80% entrenamiento, 20% validación\u001b[39;00m\n\u001b[1;32m      8\u001b[0m     subset\u001b[38;5;241m=\u001b[39m\u001b[38;5;124m\"\u001b[39m\u001b[38;5;124mtraining\u001b[39m\u001b[38;5;124m\"\u001b[39m,\n\u001b[1;32m      9\u001b[0m     seed\u001b[38;5;241m=\u001b[39m\u001b[38;5;241m123\u001b[39m,\n\u001b[1;32m     10\u001b[0m     image_size\u001b[38;5;241m=\u001b[39m(\u001b[38;5;241m224\u001b[39m, \u001b[38;5;241m224\u001b[39m),  \u001b[38;5;66;03m# Tamaño estándar para modelos preentrenados\u001b[39;00m\n\u001b[1;32m     11\u001b[0m     batch_size\u001b[38;5;241m=\u001b[39m\u001b[38;5;241m32\u001b[39m\n\u001b[1;32m     12\u001b[0m )\n\u001b[1;32m     14\u001b[0m val_ds \u001b[38;5;241m=\u001b[39m image_dataset_from_directory(\n\u001b[1;32m     15\u001b[0m     ruta_dataset,\n\u001b[1;32m     16\u001b[0m     validation_split\u001b[38;5;241m=\u001b[39m\u001b[38;5;241m0.2\u001b[39m,\n\u001b[0;32m   (...)\u001b[0m\n\u001b[1;32m     20\u001b[0m     batch_size\u001b[38;5;241m=\u001b[39m\u001b[38;5;241m32\u001b[39m\n\u001b[1;32m     21\u001b[0m )\n\u001b[1;32m     23\u001b[0m \u001b[38;5;66;03m# Verificar clases cargadas\u001b[39;00m\n",
      "\u001b[0;31mNameError\u001b[0m: name 'ruta_dataset' is not defined"
     ]
    }
   ],
   "source": [
    "ruta_dataset_homen = \"/prj/posgrad/samuelrt/Documentos/Doutorado/images/homen\"\n",
    "ruta_dataset_mulher = \"/prj/posgrad/samuelrt/Documentos/Doutorado/images/mulher\"\n",
    "\n",
    "# Cargar las imágenes en conjuntos de entrenamiento y validación\n",
    "train_ds = image_dataset_from_directory(\n",
    "    ruta_dataset,\n",
    "    validation_split=0.2,  # 80% entrenamiento, 20% validación\n",
    "    subset=\"training\",\n",
    "    seed=123,\n",
    "    image_size=(224, 224),  # Tamaño estándar para modelos preentrenados\n",
    "    batch_size=32\n",
    ")\n",
    "\n",
    "val_ds = image_dataset_from_directory(\n",
    "    ruta_dataset,\n",
    "    validation_split=0.2,\n",
    "    subset=\"validation\",\n",
    "    seed=123,\n",
    "    image_size=(224, 224),\n",
    "    batch_size=32\n",
    ")\n",
    "\n",
    "# Verificar clases cargadas\n",
    "clases = train_ds.class_names\n",
    "print(\"Clases detectadas:\", clases)"
   ]
  },
  {
   "cell_type": "code",
   "execution_count": null,
   "id": "4c70f7a5-264e-4b1f-91c9-f490b2f80410",
   "metadata": {},
   "outputs": [],
   "source": []
  },
  {
   "cell_type": "code",
   "execution_count": null,
   "id": "c65fb643-81c6-40d6-91a3-cef525b319d4",
   "metadata": {},
   "outputs": [],
   "source": []
  }
 ],
 "metadata": {
  "kernelspec": {
   "display_name": "Python 3 (ipykernel)",
   "language": "python",
   "name": "python3"
  },
  "language_info": {
   "codemirror_mode": {
    "name": "ipython",
    "version": 3
   },
   "file_extension": ".py",
   "mimetype": "text/x-python",
   "name": "python",
   "nbconvert_exporter": "python",
   "pygments_lexer": "ipython3",
   "version": "3.11.10"
  }
 },
 "nbformat": 4,
 "nbformat_minor": 5
}
