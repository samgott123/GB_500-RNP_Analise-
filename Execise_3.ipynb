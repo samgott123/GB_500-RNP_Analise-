{
 "cells": [
  {
   "cell_type": "code",
   "execution_count": 85,
   "id": "6e746976-ac2e-458e-9d26-7addc3239e19",
   "metadata": {},
   "outputs": [],
   "source": [
    "import tensorflow as tf\n",
    "from tensorflow import keras\n",
    "from keras.layers import  Dense\n",
    "from keras.models import Sequential\n",
    "from keras.optimizers import Adam\n",
    "import os\n",
    "import numpy as np\n",
    "import pandas as pd\n",
    "import matplotlib.pyplot as plt\n",
    "import seaborn as sb\n",
    "from sklearn.model_selection import train_test_split,KFold\n",
    "from sklearn.metrics import confusion_matrix,accuracy_score"
   ]
  },
  {
   "cell_type": "code",
   "execution_count": 146,
   "id": "28cde590-1bba-4672-9606-477bc3520f6d",
   "metadata": {
    "scrolled": true
   },
   "outputs": [],
   "source": [
    "import os\n",
    "import numpy as np\n",
    "import cv2\n",
    "from sklearn.preprocessing import StandardScaler\n",
    "\n",
    "# Definir rutas\n",
    "base_path = '/prj/posgrad/samuelrt/Documentos/Doutorado/images'\n",
    "hombres_path = os.path.join(base_path, 'homen')\n",
    "mujeres_path = os.path.join(base_path, 'mulher')\n",
    "\n",
    "# Tamaño deseado para las imágenes\n",
    "img_height, img_width = 128, 128  # Un tamaño más pequeño para reducir dimensionalidad\n",
    "\n",
    "# Listas para almacenar imágenes y etiquetas\n",
    "imagenes = []\n",
    "etiquetas = []\n",
    "\n",
    "# Cargar imágenes de hombres (etiqueta 0) en escala de grises\n",
    "for imagen_nombre in os.listdir(hombres_path):\n",
    "    if imagen_nombre.endswith(('.jpg', '.jpeg', '.png')):\n",
    "        img_path = os.path.join(hombres_path, imagen_nombre)\n",
    "        # Cargar imagen como escala de grises directamente\n",
    "        img = cv2.imread(img_path, cv2.IMREAD_GRAYSCALE)\n",
    "        # Redimensionar\n",
    "        img = cv2.resize(img, (img_width, img_height))\n",
    "        # Aplanar la imagen (convertir matriz 2D a vector 1D)\n",
    "        img_flat = img.flatten()\n",
    "        imagenes.append(img_flat)\n",
    "        etiquetas.append(0)  # 0 para hombres\n",
    "\n",
    "# Cargar imágenes de mujeres (etiqueta 1) en escala de grises\n",
    "for imagen_nombre in os.listdir(mujeres_path):\n",
    "    if imagen_nombre.endswith(('.jpg', '.jpeg', '.png')):\n",
    "        img_path = os.path.join(mujeres_path, imagen_nombre)\n",
    "        img = cv2.imread(img_path, cv2.IMREAD_GRAYSCALE)\n",
    "        img = cv2.resize(img, (img_width, img_height))\n",
    "        img_flat = img.flatten()\n",
    "        imagenes.append(img_flat)\n",
    "        etiquetas.append(1)  # 1 para mujeres\n",
    "\n",
    "# Convertir listas a arrays de NumPy\n",
    "X = np.array(imagenes)\n",
    "y = np.array(etiquetas)"
   ]
  },
  {
   "cell_type": "code",
   "execution_count": 87,
   "id": "a45e6031",
   "metadata": {},
   "outputs": [
    {
     "data": {
      "image/png": "[encoded data removed]",
      "text/plain": [
       "<Figure size 500x500 with 1 Axes>"
      ]
     },
     "metadata": {},
     "output_type": "display_data"
    }
   ],
   "source": [
    "def visualizar_imagen(imagen_flat, altura=64, anchura=64):\n",
    "    # Reformar el vector aplanado a matriz 2D\n",
    "    imagen_2d = imagen_flat.reshape(altura, anchura)\n",
    "    plt.figure(figsize=(5, 5))\n",
    "    plt.imshow(imagen_2d, cmap='gray')\n",
    "    plt.axis('off')\n",
    "    plt.show()\n",
    "\n",
    "# Para visualizar una imagen del conjunto de entrenamiento\n",
    "indice = 0  # Cambia el índice para ver diferentes imágenes\n",
    "visualizar_imagen(X[indice], img_height, img_width)"
   ]
  },
  {
   "cell_type": "code",
   "execution_count": 88,
   "id": "186e6fc2",
   "metadata": {},
   "outputs": [
    {
     "data": {
      "text/html": [
       "<div>\n",
       "<style scoped>\n",
       "    .dataframe tbody tr th:only-of-type {\n",
       "        vertical-align: middle;\n",
       "    }\n",
       "\n",
       "    .dataframe tbody tr th {\n",
       "        vertical-align: top;\n",
       "    }\n",
       "\n",
       "    .dataframe thead th {\n",
       "        text-align: right;\n",
       "    }\n",
       "</style>\n",
       "<table border=\"1\" class=\"dataframe\">\n",
       "  <thead>\n",
       "    <tr style=\"text-align: right;\">\n",
       "      <th></th>\n",
       "      <th>P0</th>\n",
       "      <th>P1</th>\n",
       "      <th>P2</th>\n",
       "      <th>P3</th>\n",
       "      <th>P4</th>\n",
       "      <th>P5</th>\n",
       "      <th>P6</th>\n",
       "      <th>P7</th>\n",
       "      <th>P8</th>\n",
       "      <th>P9</th>\n",
       "      <th>...</th>\n",
       "      <th>P16375</th>\n",
       "      <th>P16376</th>\n",
       "      <th>P16377</th>\n",
       "      <th>P16378</th>\n",
       "      <th>P16379</th>\n",
       "      <th>P16380</th>\n",
       "      <th>P16381</th>\n",
       "      <th>P16382</th>\n",
       "      <th>P16383</th>\n",
       "      <th>target</th>\n",
       "    </tr>\n",
       "  </thead>\n",
       "  <tbody>\n",
       "    <tr>\n",
       "      <th>0</th>\n",
       "      <td>255</td>\n",
       "      <td>255</td>\n",
       "      <td>255</td>\n",
       "      <td>255</td>\n",
       "      <td>255</td>\n",
       "      <td>255</td>\n",
       "      <td>255</td>\n",
       "      <td>255</td>\n",
       "      <td>255</td>\n",
       "      <td>255</td>\n",
       "      <td>...</td>\n",
       "      <td>130</td>\n",
       "      <td>130</td>\n",
       "      <td>130</td>\n",
       "      <td>131</td>\n",
       "      <td>133</td>\n",
       "      <td>139</td>\n",
       "      <td>139</td>\n",
       "      <td>139</td>\n",
       "      <td>143</td>\n",
       "      <td>0</td>\n",
       "    </tr>\n",
       "    <tr>\n",
       "      <th>1</th>\n",
       "      <td>165</td>\n",
       "      <td>167</td>\n",
       "      <td>167</td>\n",
       "      <td>166</td>\n",
       "      <td>167</td>\n",
       "      <td>167</td>\n",
       "      <td>167</td>\n",
       "      <td>172</td>\n",
       "      <td>166</td>\n",
       "      <td>166</td>\n",
       "      <td>...</td>\n",
       "      <td>147</td>\n",
       "      <td>147</td>\n",
       "      <td>147</td>\n",
       "      <td>145</td>\n",
       "      <td>145</td>\n",
       "      <td>137</td>\n",
       "      <td>127</td>\n",
       "      <td>121</td>\n",
       "      <td>119</td>\n",
       "      <td>0</td>\n",
       "    </tr>\n",
       "    <tr>\n",
       "      <th>2</th>\n",
       "      <td>187</td>\n",
       "      <td>188</td>\n",
       "      <td>185</td>\n",
       "      <td>185</td>\n",
       "      <td>185</td>\n",
       "      <td>187</td>\n",
       "      <td>188</td>\n",
       "      <td>184</td>\n",
       "      <td>185</td>\n",
       "      <td>183</td>\n",
       "      <td>...</td>\n",
       "      <td>44</td>\n",
       "      <td>54</td>\n",
       "      <td>52</td>\n",
       "      <td>42</td>\n",
       "      <td>42</td>\n",
       "      <td>44</td>\n",
       "      <td>58</td>\n",
       "      <td>59</td>\n",
       "      <td>67</td>\n",
       "      <td>0</td>\n",
       "    </tr>\n",
       "    <tr>\n",
       "      <th>3</th>\n",
       "      <td>255</td>\n",
       "      <td>255</td>\n",
       "      <td>255</td>\n",
       "      <td>255</td>\n",
       "      <td>255</td>\n",
       "      <td>255</td>\n",
       "      <td>255</td>\n",
       "      <td>255</td>\n",
       "      <td>255</td>\n",
       "      <td>255</td>\n",
       "      <td>...</td>\n",
       "      <td>13</td>\n",
       "      <td>13</td>\n",
       "      <td>17</td>\n",
       "      <td>20</td>\n",
       "      <td>21</td>\n",
       "      <td>20</td>\n",
       "      <td>21</td>\n",
       "      <td>26</td>\n",
       "      <td>29</td>\n",
       "      <td>0</td>\n",
       "    </tr>\n",
       "    <tr>\n",
       "      <th>4</th>\n",
       "      <td>195</td>\n",
       "      <td>191</td>\n",
       "      <td>191</td>\n",
       "      <td>192</td>\n",
       "      <td>194</td>\n",
       "      <td>191</td>\n",
       "      <td>191</td>\n",
       "      <td>193</td>\n",
       "      <td>193</td>\n",
       "      <td>192</td>\n",
       "      <td>...</td>\n",
       "      <td>10</td>\n",
       "      <td>6</td>\n",
       "      <td>12</td>\n",
       "      <td>30</td>\n",
       "      <td>30</td>\n",
       "      <td>30</td>\n",
       "      <td>32</td>\n",
       "      <td>37</td>\n",
       "      <td>42</td>\n",
       "      <td>0</td>\n",
       "    </tr>\n",
       "  </tbody>\n",
       "</table>\n",
       "<p>5 rows × 16385 columns</p>\n",
       "</div>"
      ],
      "text/plain": [
       "    P0   P1   P2   P3   P4   P5   P6   P7   P8   P9  ...  P16375  P16376  \\\n",
       "0  255  255  255  255  255  255  255  255  255  255  ...     130     130   \n",
       "1  165  167  167  166  167  167  167  172  166  166  ...     147     147   \n",
       "2  187  188  185  185  185  187  188  184  185  183  ...      44      54   \n",
       "3  255  255  255  255  255  255  255  255  255  255  ...      13      13   \n",
       "4  195  191  191  192  194  191  191  193  193  192  ...      10       6   \n",
       "\n",
       "   P16377  P16378  P16379  P16380  P16381  P16382  P16383  target  \n",
       "0     130     131     133     139     139     139     143       0  \n",
       "1     147     145     145     137     127     121     119       0  \n",
       "2      52      42      42      44      58      59      67       0  \n",
       "3      17      20      21      20      21      26      29       0  \n",
       "4      12      30      30      30      32      37      42       0  \n",
       "\n",
       "[5 rows x 16385 columns]"
      ]
     },
     "execution_count": 88,
     "metadata": {},
     "output_type": "execute_result"
    }
   ],
   "source": [
    "df = pd.DataFrame(data=X,columns=[f'P{i}' for i in range(X.shape[1])])\n",
    "df.loc[:,'target'] = y\n",
    "df\n",
    "df.head()"
   ]
  },
  {
   "cell_type": "code",
   "execution_count": 89,
   "id": "abe3d018",
   "metadata": {},
   "outputs": [
    {
     "data": {
      "text/plain": [
       "target\n",
       "0    200\n",
       "1    200\n",
       "Name: count, dtype: int64"
      ]
     },
     "execution_count": 89,
     "metadata": {},
     "output_type": "execute_result"
    }
   ],
   "source": [
    "df.value_counts(subset='target')"
   ]
  },
  {
   "cell_type": "code",
   "execution_count": 90,
   "id": "8b17dede",
   "metadata": {},
   "outputs": [
    {
     "data": {
      "text/html": [
       "<div>\n",
       "<style scoped>\n",
       "    .dataframe tbody tr th:only-of-type {\n",
       "        vertical-align: middle;\n",
       "    }\n",
       "\n",
       "    .dataframe tbody tr th {\n",
       "        vertical-align: top;\n",
       "    }\n",
       "\n",
       "    .dataframe thead th {\n",
       "        text-align: right;\n",
       "    }\n",
       "</style>\n",
       "<table border=\"1\" class=\"dataframe\">\n",
       "  <thead>\n",
       "    <tr style=\"text-align: right;\">\n",
       "      <th></th>\n",
       "      <th>P0</th>\n",
       "      <th>P1</th>\n",
       "      <th>P2</th>\n",
       "      <th>P3</th>\n",
       "      <th>P4</th>\n",
       "      <th>P5</th>\n",
       "      <th>P6</th>\n",
       "      <th>P7</th>\n",
       "      <th>P8</th>\n",
       "      <th>P9</th>\n",
       "      <th>...</th>\n",
       "      <th>P16375</th>\n",
       "      <th>P16376</th>\n",
       "      <th>P16377</th>\n",
       "      <th>P16378</th>\n",
       "      <th>P16379</th>\n",
       "      <th>P16380</th>\n",
       "      <th>P16381</th>\n",
       "      <th>P16382</th>\n",
       "      <th>P16383</th>\n",
       "      <th>target</th>\n",
       "    </tr>\n",
       "  </thead>\n",
       "  <tbody>\n",
       "    <tr>\n",
       "      <th>0</th>\n",
       "      <td>175</td>\n",
       "      <td>175</td>\n",
       "      <td>179</td>\n",
       "      <td>177</td>\n",
       "      <td>176</td>\n",
       "      <td>177</td>\n",
       "      <td>177</td>\n",
       "      <td>176</td>\n",
       "      <td>175</td>\n",
       "      <td>176</td>\n",
       "      <td>...</td>\n",
       "      <td>80</td>\n",
       "      <td>81</td>\n",
       "      <td>79</td>\n",
       "      <td>78</td>\n",
       "      <td>78</td>\n",
       "      <td>78</td>\n",
       "      <td>77</td>\n",
       "      <td>74</td>\n",
       "      <td>69</td>\n",
       "      <td>1</td>\n",
       "    </tr>\n",
       "    <tr>\n",
       "      <th>1</th>\n",
       "      <td>199</td>\n",
       "      <td>200</td>\n",
       "      <td>199</td>\n",
       "      <td>199</td>\n",
       "      <td>201</td>\n",
       "      <td>202</td>\n",
       "      <td>201</td>\n",
       "      <td>200</td>\n",
       "      <td>202</td>\n",
       "      <td>194</td>\n",
       "      <td>...</td>\n",
       "      <td>34</td>\n",
       "      <td>34</td>\n",
       "      <td>33</td>\n",
       "      <td>40</td>\n",
       "      <td>47</td>\n",
       "      <td>42</td>\n",
       "      <td>47</td>\n",
       "      <td>51</td>\n",
       "      <td>46</td>\n",
       "      <td>1</td>\n",
       "    </tr>\n",
       "    <tr>\n",
       "      <th>2</th>\n",
       "      <td>183</td>\n",
       "      <td>184</td>\n",
       "      <td>183</td>\n",
       "      <td>184</td>\n",
       "      <td>184</td>\n",
       "      <td>183</td>\n",
       "      <td>184</td>\n",
       "      <td>183</td>\n",
       "      <td>182</td>\n",
       "      <td>184</td>\n",
       "      <td>...</td>\n",
       "      <td>41</td>\n",
       "      <td>58</td>\n",
       "      <td>67</td>\n",
       "      <td>76</td>\n",
       "      <td>79</td>\n",
       "      <td>69</td>\n",
       "      <td>66</td>\n",
       "      <td>76</td>\n",
       "      <td>83</td>\n",
       "      <td>0</td>\n",
       "    </tr>\n",
       "    <tr>\n",
       "      <th>3</th>\n",
       "      <td>187</td>\n",
       "      <td>186</td>\n",
       "      <td>187</td>\n",
       "      <td>187</td>\n",
       "      <td>188</td>\n",
       "      <td>189</td>\n",
       "      <td>185</td>\n",
       "      <td>185</td>\n",
       "      <td>187</td>\n",
       "      <td>186</td>\n",
       "      <td>...</td>\n",
       "      <td>112</td>\n",
       "      <td>114</td>\n",
       "      <td>114</td>\n",
       "      <td>113</td>\n",
       "      <td>115</td>\n",
       "      <td>116</td>\n",
       "      <td>117</td>\n",
       "      <td>116</td>\n",
       "      <td>117</td>\n",
       "      <td>1</td>\n",
       "    </tr>\n",
       "    <tr>\n",
       "      <th>4</th>\n",
       "      <td>182</td>\n",
       "      <td>182</td>\n",
       "      <td>184</td>\n",
       "      <td>183</td>\n",
       "      <td>181</td>\n",
       "      <td>183</td>\n",
       "      <td>185</td>\n",
       "      <td>184</td>\n",
       "      <td>184</td>\n",
       "      <td>186</td>\n",
       "      <td>...</td>\n",
       "      <td>8</td>\n",
       "      <td>11</td>\n",
       "      <td>15</td>\n",
       "      <td>37</td>\n",
       "      <td>39</td>\n",
       "      <td>42</td>\n",
       "      <td>29</td>\n",
       "      <td>25</td>\n",
       "      <td>38</td>\n",
       "      <td>0</td>\n",
       "    </tr>\n",
       "  </tbody>\n",
       "</table>\n",
       "<p>5 rows × 16385 columns</p>\n",
       "</div>"
      ],
      "text/plain": [
       "    P0   P1   P2   P3   P4   P5   P6   P7   P8   P9  ...  P16375  P16376  \\\n",
       "0  175  175  179  177  176  177  177  176  175  176  ...      80      81   \n",
       "1  199  200  199  199  201  202  201  200  202  194  ...      34      34   \n",
       "2  183  184  183  184  184  183  184  183  182  184  ...      41      58   \n",
       "3  187  186  187  187  188  189  185  185  187  186  ...     112     114   \n",
       "4  182  182  184  183  181  183  185  184  184  186  ...       8      11   \n",
       "\n",
       "   P16377  P16378  P16379  P16380  P16381  P16382  P16383  target  \n",
       "0      79      78      78      78      77      74      69       1  \n",
       "1      33      40      47      42      47      51      46       1  \n",
       "2      67      76      79      69      66      76      83       0  \n",
       "3     114     113     115     116     117     116     117       1  \n",
       "4      15      37      39      42      29      25      38       0  \n",
       "\n",
       "[5 rows x 16385 columns]"
      ]
     },
     "execution_count": 90,
     "metadata": {},
     "output_type": "execute_result"
    }
   ],
   "source": [
    "# Para obtener el mismo resultado aleatorio cada vez\n",
    "df = df.sample(frac=1, random_state=42).reset_index(drop=True)\n",
    "df.head()"
   ]
  },
  {
   "cell_type": "code",
   "execution_count": 91,
   "id": "50de3b3b",
   "metadata": {},
   "outputs": [],
   "source": [
    "def scaler(x):\n",
    "    return (x - np.mean(x)) / np.std(x)\n",
    "    #return (x - np.min(x))/(np.max(x) - np.min(x))"
   ]
  },
  {
   "cell_type": "code",
   "execution_count": 92,
   "id": "6110e998",
   "metadata": {},
   "outputs": [],
   "source": [
    "X = df.values[:,:-1]\n",
    "y = df.values[:,-1]"
   ]
  },
  {
   "cell_type": "code",
   "execution_count": 93,
   "id": "56aecdc3",
   "metadata": {},
   "outputs": [],
   "source": [
    "X = scaler(X)"
   ]
  },
  {
   "cell_type": "code",
   "execution_count": null,
   "id": "582d9b0b",
   "metadata": {},
   "outputs": [
    {
     "data": {
      "text/plain": [
       "Text(0.5, 1.0, 'Counts')"
      ]
     },
     "execution_count": 94,
     "metadata": {},
     "output_type": "execute_result"
    },
    {
     "data": {
      "image/png": "[encoded data removed]",
      "text/plain": [
       "<Figure size 640x480 with 1 Axes>"
      ]
     },
     "metadata": {},
     "output_type": "display_data"
    }
   ],
   "source": [
    "# Separar test y entrenamiento\n",
    "X_trainval, X_test, y_trainval, y_test = train_test_split(X, y, test_size=0.2,random_state=15,stratify=y)\n",
    "clases ,count = np.unique(y_test,return_counts=True)\n",
    "plt.bar(x=clases,height=count,color=['g','b'])\n",
    "plt.xticks(clases)\n",
    "plt.title('Counts')"
   ]
  },
  {
   "cell_type": "code",
   "execution_count": 95,
   "id": "f9db48a5",
   "metadata": {},
   "outputs": [
    {
     "name": "stdout",
     "output_type": "stream",
     "text": [
      "(40, 16384)\n"
     ]
    }
   ],
   "source": [
    "print(X_test.shape)"
   ]
  },
  {
   "cell_type": "markdown",
   "id": "cc5465ce",
   "metadata": {},
   "source": [
    "### K-Fold"
   ]
  },
  {
   "cell_type": "code",
   "execution_count": 96,
   "id": "a2a2bf07",
   "metadata": {},
   "outputs": [
    {
     "name": "stderr",
     "output_type": "stream",
     "text": [
      "/prj/posgrad/samuelrt/anaconda3/lib/python3.11/site-packages/keras/src/layers/core/dense.py:87: UserWarning: Do not pass an `input_shape`/`input_dim` argument to a layer. When using Sequential models, prefer using an `Input(shape)` object as the first layer in the model instead.\n",
      "  super().__init__(activity_regularizer=activity_regularizer, **kwargs)\n"
     ]
    },
    {
     "name": "stdout",
     "output_type": "stream",
     "text": [
      "(40, 16384) aqui\n",
      "\u001b[1m2/2\u001b[0m \u001b[32m━━━━━━━━━━━━━━━━━━━━\u001b[0m\u001b[37m\u001b[0m \u001b[1m0s\u001b[0m 38ms/step\n"
     ]
    },
    {
     "name": "stderr",
     "output_type": "stream",
     "text": [
      "/prj/posgrad/samuelrt/anaconda3/lib/python3.11/site-packages/keras/src/layers/core/dense.py:87: UserWarning: Do not pass an `input_shape`/`input_dim` argument to a layer. When using Sequential models, prefer using an `Input(shape)` object as the first layer in the model instead.\n",
      "  super().__init__(activity_regularizer=activity_regularizer, **kwargs)\n"
     ]
    },
    {
     "name": "stdout",
     "output_type": "stream",
     "text": [
      "(40, 16384) aqui\n",
      "\u001b[1m2/2\u001b[0m \u001b[32m━━━━━━━━━━━━━━━━━━━━\u001b[0m\u001b[37m\u001b[0m \u001b[1m0s\u001b[0m 48ms/step\n"
     ]
    },
    {
     "name": "stderr",
     "output_type": "stream",
     "text": [
      "/prj/posgrad/samuelrt/anaconda3/lib/python3.11/site-packages/keras/src/layers/core/dense.py:87: UserWarning: Do not pass an `input_shape`/`input_dim` argument to a layer. When using Sequential models, prefer using an `Input(shape)` object as the first layer in the model instead.\n",
      "  super().__init__(activity_regularizer=activity_regularizer, **kwargs)\n"
     ]
    },
    {
     "name": "stdout",
     "output_type": "stream",
     "text": [
      "(40, 16384) aqui\n",
      "\u001b[1m2/2\u001b[0m \u001b[32m━━━━━━━━━━━━━━━━━━━━\u001b[0m\u001b[37m\u001b[0m \u001b[1m0s\u001b[0m 50ms/step\n"
     ]
    },
    {
     "name": "stderr",
     "output_type": "stream",
     "text": [
      "/prj/posgrad/samuelrt/anaconda3/lib/python3.11/site-packages/keras/src/layers/core/dense.py:87: UserWarning: Do not pass an `input_shape`/`input_dim` argument to a layer. When using Sequential models, prefer using an `Input(shape)` object as the first layer in the model instead.\n",
      "  super().__init__(activity_regularizer=activity_regularizer, **kwargs)\n"
     ]
    },
    {
     "name": "stdout",
     "output_type": "stream",
     "text": [
      "(40, 16384) aqui\n",
      "\u001b[1m2/2\u001b[0m \u001b[32m━━━━━━━━━━━━━━━━━━━━\u001b[0m\u001b[37m\u001b[0m \u001b[1m0s\u001b[0m 41ms/step\n"
     ]
    }
   ],
   "source": [
    "from sklearn.model_selection import KFold\n",
    "\n",
    "K = 4\n",
    "info = {} # store all the information obtained by the validation\n",
    "#folds = np.column_stack((X_trainval, y_trainval))\n",
    "\n",
    "#print(folds.shape,'A')\n",
    "\n",
    "#folds = np.array_split(folds, K,axis=0)\n",
    "\n",
    "#print(folds[0].shape,'B')\n",
    "\n",
    "kf = KFold(n_splits=K, shuffle=True, random_state=15)\n",
    "number = 0\n",
    "for train_index, val_index in kf.split(X_trainval):\n",
    "    x_train, x_val = X_trainval[train_index], X_trainval[val_index]\n",
    "    y_train, y_val = y_trainval[train_index], y_trainval[val_index]\n",
    "    # Entrenar modelo y evaluar...\n",
    "    \n",
    "    model = Sequential()\n",
    "    model.add(Dense(64, input_shape=(x_train.shape[1],), activation='relu',\n",
    "                                        kernel_initializer='glorot_uniform'))\n",
    "\n",
    "    # Agregar segunda capa oculta\n",
    "    model.add(Dense(32, activation='relu'))\n",
    "    model.add(Dense(1, activation='sigmoid'))\n",
    "    \n",
    "    model.compile(loss='binary_crossentropy',\n",
    "                    optimizer=Adam(learning_rate=0.01), metrics=['binary_accuracy'])\n",
    "\n",
    "    # Train the perceptron using Adam optimizer\n",
    "    history = model.fit(x_train, y_train, validation_data=(\n",
    "                        x_val, y_val), epochs=50, batch_size=10,verbose=False)\n",
    "    \n",
    "    print(X_test.shape,'aqui')\n",
    "    \n",
    "    pred = model.predict(X_test).astype(int)\n",
    "    \n",
    "    accuracy = accuracy_score(pred,y_test)\n",
    "    \n",
    "    info[number] = [history.history['loss'],history.history['val_loss'],accuracy]\n",
    "    number +=1"
   ]
  },
  {
   "cell_type": "code",
   "execution_count": 97,
   "id": "c8bd0218",
   "metadata": {},
   "outputs": [
    {
     "data": {
      "image/png": "[encoded data removed]",
      "text/plain": [
       "<Figure size 600x400 with 1 Axes>"
      ]
     },
     "metadata": {},
     "output_type": "display_data"
    },
    {
     "data": {
      "image/png": "[encoded data removed]",
      "text/plain": [
       "<Figure size 600x400 with 1 Axes>"
      ]
     },
     "metadata": {},
     "output_type": "display_data"
    },
    {
     "data": {
      "image/png": "[encoded data removed]",
      "text/plain": [
       "<Figure size 600x400 with 1 Axes>"
      ]
     },
     "metadata": {},
     "output_type": "display_data"
    },
    {
     "data": {
      "image/png": "[encoded data removed]",
      "text/plain": [
       "<Figure size 600x400 with 1 Axes>"
      ]
     },
     "metadata": {},
     "output_type": "display_data"
    }
   ],
   "source": [
    "\n",
    "def plot_info(info):\n",
    "    \"\"\"\n",
    "    Dibuja un gráfico separado para cada experimento almacenado en el diccionario `info`,\n",
    "    mostrando la pérdida de entrenamiento y validación por época, e incluyendo la precisión\n",
    "    final sobre el conjunto de test en el título.\n",
    "\n",
    "    Parameters\n",
    "    ----------\n",
    "    info : dict\n",
    "        Diccionario donde cada clave es un identificador (e.g., fold o experimento),\n",
    "        y cada valor es una lista con:\n",
    "        [train_loss_list, val_loss_list, accuracy_test]\n",
    "    \"\"\"\n",
    "    for key, (train_loss, val_loss, acc) in info.items():\n",
    "        epochs = list(range(1, len(train_loss) + 1))\n",
    "\n",
    "        plt.figure(figsize=(6, 4))\n",
    "        plt.plot(epochs, train_loss, 'o--', label=\"Train Loss\")\n",
    "        plt.plot(epochs, val_loss, 's-', label=\"Val Loss\")\n",
    "\n",
    "        plt.title(f\"Fold #{key} - Test Accuracy: {acc:.4f}\")\n",
    "        plt.xlabel(\"Epoch\")\n",
    "        plt.ylabel(\"Loss\")\n",
    "        plt.legend()\n",
    "        plt.grid(True)\n",
    "        plt.tight_layout()\n",
    "        plt.show()\n",
    "\n",
    "plot_info(info)"
   ]
  },
  {
   "cell_type": "code",
   "execution_count": 147,
   "id": "7670cb85",
   "metadata": {},
   "outputs": [
    {
     "name": "stderr",
     "output_type": "stream",
     "text": [
      "/prj/posgrad/samuelrt/anaconda3/lib/python3.11/site-packages/keras/src/layers/convolutional/base_conv.py:107: UserWarning: Do not pass an `input_shape`/`input_dim` argument to a layer. When using Sequential models, prefer using an `Input(shape)` object as the first layer in the model instead.\n",
      "  super().__init__(activity_regularizer=activity_regularizer, **kwargs)\n"
     ]
    }
   ],
   "source": [
    "from keras.models import Sequential\n",
    "from keras.layers import Conv2D, MaxPooling2D, Flatten, Dense\n",
    "from keras.optimizers import Adam\n",
    "\n",
    "model = Sequential([\n",
    "    Conv2D(32, kernel_size=(3, 3), activation='relu', input_shape=(128, 128,1)),\n",
    "    MaxPooling2D(pool_size=(2, 2)),\n",
    "    \n",
    "    Conv2D(64, kernel_size=(3, 3), activation='relu'),\n",
    "    MaxPooling2D(pool_size=(2, 2)),\n",
    "    \n",
    "    Conv2D(128, kernel_size=(3, 3), activation='relu'),\n",
    "    MaxPooling2D(pool_size=(2, 2)),\n",
    "    \n",
    "    Flatten(),\n",
    "    Dense(128, activation='relu'),\n",
    "    Dense(1, activation='sigmoid')  # o 'sigmoid' si es binaria\n",
    "])\n",
    "\n",
    "model.compile(\n",
    "    optimizer=Adam(learning_rate=0.001),\n",
    "    loss='binary_crossentropy',  # usa 'categorical_crossentropy' si tus etiquetas están one-hot\n",
    "    metrics=['accuracy']\n",
    ")\n"
   ]
  },
  {
   "cell_type": "code",
   "execution_count": 148,
   "id": "4d5e2e2f",
   "metadata": {},
   "outputs": [],
   "source": [
    "X = X.reshape(400,128,128)\n"
   ]
  },
  {
   "cell_type": "code",
   "execution_count": 149,
   "id": "1e469c3d",
   "metadata": {},
   "outputs": [],
   "source": [
    "x_train , x_test , y_train , y_test = train_test_split(X,y,test_size=0.2)"
   ]
  },
  {
   "cell_type": "code",
   "execution_count": 150,
   "id": "eb7dca88",
   "metadata": {},
   "outputs": [],
   "source": [
    "x_train = x_train[..., np.newaxis]"
   ]
  },
  {
   "cell_type": "code",
   "execution_count": 151,
   "id": "07334c15",
   "metadata": {},
   "outputs": [
    {
     "data": {
      "text/plain": [
       "(320, 128, 128, 1)"
      ]
     },
     "execution_count": 151,
     "metadata": {},
     "output_type": "execute_result"
    }
   ],
   "source": [
    "x_train.shape"
   ]
  },
  {
   "cell_type": "code",
   "execution_count": 152,
   "id": "b06e2017",
   "metadata": {},
   "outputs": [
    {
     "data": {
      "text/plain": [
       "array([1, 1, 0, 0, 0, 0, 1, 1, 0, 1, 0, 0, 1, 0, 0, 1, 0, 0, 0, 0, 0, 1,\n",
       "       0, 1, 0, 1, 0, 0, 0, 1, 0, 0, 1, 1, 1, 1, 1, 1, 1, 1, 1, 0, 0, 0,\n",
       "       1, 0, 1, 1, 1, 1, 1, 1, 1, 0, 1, 0, 1, 1, 1, 0, 0, 1, 1, 0, 0, 0,\n",
       "       0, 0, 0, 0, 1, 0, 1, 1, 1, 1, 0, 0, 1, 0, 1, 0, 0, 0, 0, 1, 0, 1,\n",
       "       0, 0, 0, 0, 1, 0, 0, 1, 0, 0, 0, 0, 0, 0, 1, 1, 1, 0, 1, 0, 1, 0,\n",
       "       1, 1, 0, 1, 0, 1, 0, 1, 0, 0, 0, 1, 0, 0, 1, 1, 1, 0, 1, 1, 1, 0,\n",
       "       1, 1, 1, 0, 0, 0, 1, 1, 0, 0, 1, 1, 1, 1, 0, 0, 1, 0, 1, 0, 0, 1,\n",
       "       0, 1, 1, 0, 1, 1, 1, 0, 1, 1, 1, 0, 1, 1, 0, 1, 1, 1, 0, 0, 0, 1,\n",
       "       0, 0, 0, 1, 1, 0, 0, 0, 0, 0, 1, 0, 0, 0, 1, 1, 0, 0, 0, 0, 0, 1,\n",
       "       0, 0, 0, 1, 0, 1, 1, 1, 0, 0, 0, 0, 1, 1, 0, 0, 0, 0, 1, 1, 0, 1,\n",
       "       1, 0, 1, 1, 0, 0, 1, 0, 1, 1, 1, 1, 0, 0, 1, 1, 0, 0, 0, 1, 0, 1,\n",
       "       0, 0, 1, 0, 1, 1, 0, 1, 0, 0, 0, 0, 1, 0, 1, 0, 1, 1, 1, 1, 0, 1,\n",
       "       1, 0, 1, 0, 0, 1, 0, 1, 0, 1, 0, 1, 0, 1, 1, 0, 1, 0, 0, 1, 1, 0,\n",
       "       1, 0, 1, 1, 0, 0, 1, 0, 1, 1, 1, 1, 1, 0, 1, 1, 1, 0, 1, 1, 0, 0,\n",
       "       0, 0, 1, 0, 0, 0, 1, 0, 1, 0, 0, 1])"
      ]
     },
     "execution_count": 152,
     "metadata": {},
     "output_type": "execute_result"
    }
   ],
   "source": [
    "y_train"
   ]
  },
  {
   "cell_type": "code",
   "execution_count": 153,
   "id": "4e28fbda",
   "metadata": {},
   "outputs": [
    {
     "name": "stdout",
     "output_type": "stream",
     "text": [
      "\u001b[1m10/10\u001b[0m \u001b[32m━━━━━━━━━━━━━━━━━━━━\u001b[0m\u001b[37m\u001b[0m \u001b[1m4s\u001b[0m 303ms/step - accuracy: 0.5108 - loss: 41.1683\n"
     ]
    },
    {
     "data": {
      "text/plain": [
       "<keras.src.callbacks.history.History at 0x7c77be11d410>"
      ]
     },
     "execution_count": 153,
     "metadata": {},
     "output_type": "execute_result"
    }
   ],
   "source": [
    "model.fit(x_train,y_train)"
   ]
  },
  {
   "cell_type": "code",
   "execution_count": 154,
   "id": "b8f1c14d",
   "metadata": {},
   "outputs": [
    {
     "name": "stdout",
     "output_type": "stream",
     "text": [
      "\u001b[1m3/3\u001b[0m \u001b[32m━━━━━━━━━━━━━━━━━━━━\u001b[0m\u001b[37m\u001b[0m \u001b[1m0s\u001b[0m 82ms/step\n"
     ]
    }
   ],
   "source": [
    "pred = model.predict(x_test).astype('int')"
   ]
  },
  {
   "cell_type": "code",
   "execution_count": 156,
   "id": "dcc0b05d",
   "metadata": {},
   "outputs": [
    {
     "data": {
      "text/plain": [
       "0.4375"
      ]
     },
     "execution_count": 156,
     "metadata": {},
     "output_type": "execute_result"
    }
   ],
   "source": [
    "#y_test.shape\n",
    "#pred.flatten().shape\n",
    "accuracy_score(pred.flatten(),y_test)"
   ]
  }
 ],
 "metadata": {
  "kernelspec": {
   "display_name": "base",
   "language": "python",
   "name": "python3"
  },
  "language_info": {
   "codemirror_mode": {
    "name": "ipython",
    "version": 3
   },
   "file_extension": ".py",
   "mimetype": "text/x-python",
   "name": "python",
   "nbconvert_exporter": "python",
   "pygments_lexer": "ipython3",
   "version": "3.11.8"
  }
 },
 "nbformat": 4,
 "nbformat_minor": 5
}
